{
  "nbformat": 4,
  "nbformat_minor": 0,
  "metadata": {
    "kernelspec": {
      "display_name": "Python 3",
      "language": "python",
      "name": "python3"
    },
    "language_info": {
      "codemirror_mode": {
        "name": "ipython",
        "version": 3
      },
      "file_extension": ".py",
      "mimetype": "text/x-python",
      "name": "python",
      "nbconvert_exporter": "python",
      "pygments_lexer": "ipython3",
      "version": "3.7.3"
    },
    "colab": {
      "name": "main.ipynb",
      "provenance": []
    }
  },
  "cells": [
    {
      "cell_type": "markdown",
      "metadata": {
        "id": "ZFjYL90peU0v",
        "colab_type": "text"
      },
      "source": [
        "# Desafio 4\n",
        "\n",
        "Neste desafio, vamos praticar um pouco sobre testes de hipóteses. Utilizaremos o _data set_ [2016 Olympics in Rio de Janeiro](https://www.kaggle.com/rio2016/olympic-games/), que contém dados sobre os atletas das Olimpíadas de 2016 no Rio de Janeiro.\n",
        "\n",
        "Esse _data set_ conta com informações gerais sobre 11538 atletas como nome, nacionalidade, altura, peso e esporte praticado. Estaremos especialmente interessados nas variáveis numéricas altura (`height`) e peso (`weight`). As análises feitas aqui são parte de uma Análise Exploratória de Dados (EDA).\n",
        "\n",
        "> Obs.: Por favor, não modifique o nome das funções de resposta."
      ]
    },
    {
      "cell_type": "markdown",
      "metadata": {
        "id": "zwzVyXUUeU0z",
        "colab_type": "text"
      },
      "source": [
        "## _Setup_ geral"
      ]
    },
    {
      "cell_type": "code",
      "metadata": {
        "id": "B5Cor05MeU02",
        "colab_type": "code",
        "colab": {
          "base_uri": "https://localhost:8080/",
          "height": 74
        },
        "outputId": "a0f6f6d5-2a73-4c8d-b1f0-5098c8d68131"
      },
      "source": [
        "import pandas as pd\n",
        "import matplotlib.pyplot as plt\n",
        "import numpy as np\n",
        "import scipy.stats as sct\n",
        "import seaborn as sns"
      ],
      "execution_count": 1,
      "outputs": [
        {
          "output_type": "stream",
          "text": [
            "/usr/local/lib/python3.6/dist-packages/statsmodels/tools/_testing.py:19: FutureWarning: pandas.util.testing is deprecated. Use the functions in the public API at pandas.testing instead.\n",
            "  import pandas.util.testing as tm\n"
          ],
          "name": "stderr"
        }
      ]
    },
    {
      "cell_type": "code",
      "metadata": {
        "id": "MPoRwXK_eU1I",
        "colab_type": "code",
        "colab": {}
      },
      "source": [
        "#%matplotlib inline\n",
        "\n",
        "from IPython.core.pylabtools import figsize\n",
        "\n",
        "\n",
        "figsize(12, 8)\n",
        "\n",
        "sns.set()"
      ],
      "execution_count": 2,
      "outputs": []
    },
    {
      "cell_type": "code",
      "metadata": {
        "id": "fKMvLccReU1X",
        "colab_type": "code",
        "colab": {}
      },
      "source": [
        "athletes = pd.read_csv(\"https://raw.githubusercontent.com/flother/rio2016/master/athletes.csv\")"
      ],
      "execution_count": 3,
      "outputs": []
    },
    {
      "cell_type": "code",
      "metadata": {
        "id": "rnkGcp5reU1g",
        "colab_type": "code",
        "colab": {}
      },
      "source": [
        "def get_sample(df, col_name, n=100, seed=42):\n",
        "    \"\"\"Get a sample from a column of a dataframe.\n",
        "    \n",
        "    It drops any numpy.nan entries before sampling. The sampling\n",
        "    is performed without replacement.\n",
        "    \n",
        "    Example of numpydoc for those who haven't seen yet.\n",
        "    \n",
        "    Parameters\n",
        "    ----------\n",
        "    df : pandas.DataFrame\n",
        "        Source dataframe.\n",
        "    col_name : str\n",
        "        Name of the column to be sampled.\n",
        "    n : int\n",
        "        Sample size. Default is 100.\n",
        "    seed : int\n",
        "        Random seed. Default is 42.\n",
        "    \n",
        "    Returns\n",
        "    -------\n",
        "    pandas.Series\n",
        "        Sample of size n from dataframe's column.\n",
        "    \"\"\"\n",
        "    np.random.seed(seed)\n",
        "    \n",
        "    random_idx = np.random.choice(df[col_name].dropna().index, size=n, replace=False)\n",
        "    \n",
        "    return df.loc[random_idx, col_name]"
      ],
      "execution_count": 4,
      "outputs": []
    },
    {
      "cell_type": "markdown",
      "metadata": {
        "id": "ein0nvWJeU1p",
        "colab_type": "text"
      },
      "source": [
        "## Inicia sua análise a partir daqui"
      ]
    },
    {
      "cell_type": "code",
      "metadata": {
        "id": "KL5LAQHBeU1r",
        "colab_type": "code",
        "colab": {
          "base_uri": "https://localhost:8080/",
          "height": 206
        },
        "outputId": "4aabe5fd-77f9-48e1-ebb5-db21eec3dd5c"
      },
      "source": [
        "# Sua análise começa aqui.\n",
        "athletes.head()"
      ],
      "execution_count": 5,
      "outputs": [
        {
          "output_type": "execute_result",
          "data": {
            "text/html": [
              "<div>\n",
              "<style scoped>\n",
              "    .dataframe tbody tr th:only-of-type {\n",
              "        vertical-align: middle;\n",
              "    }\n",
              "\n",
              "    .dataframe tbody tr th {\n",
              "        vertical-align: top;\n",
              "    }\n",
              "\n",
              "    .dataframe thead th {\n",
              "        text-align: right;\n",
              "    }\n",
              "</style>\n",
              "<table border=\"1\" class=\"dataframe\">\n",
              "  <thead>\n",
              "    <tr style=\"text-align: right;\">\n",
              "      <th></th>\n",
              "      <th>id</th>\n",
              "      <th>name</th>\n",
              "      <th>nationality</th>\n",
              "      <th>sex</th>\n",
              "      <th>date_of_birth</th>\n",
              "      <th>height</th>\n",
              "      <th>weight</th>\n",
              "      <th>sport</th>\n",
              "      <th>gold</th>\n",
              "      <th>silver</th>\n",
              "      <th>bronze</th>\n",
              "      <th>info</th>\n",
              "    </tr>\n",
              "  </thead>\n",
              "  <tbody>\n",
              "    <tr>\n",
              "      <th>0</th>\n",
              "      <td>736041664</td>\n",
              "      <td>A Jesus Garcia</td>\n",
              "      <td>ESP</td>\n",
              "      <td>male</td>\n",
              "      <td>1969-10-17</td>\n",
              "      <td>1.72</td>\n",
              "      <td>64.0</td>\n",
              "      <td>athletics</td>\n",
              "      <td>0</td>\n",
              "      <td>0</td>\n",
              "      <td>0</td>\n",
              "      <td>NaN</td>\n",
              "    </tr>\n",
              "    <tr>\n",
              "      <th>1</th>\n",
              "      <td>532037425</td>\n",
              "      <td>A Lam Shin</td>\n",
              "      <td>KOR</td>\n",
              "      <td>female</td>\n",
              "      <td>1986-09-23</td>\n",
              "      <td>1.68</td>\n",
              "      <td>56.0</td>\n",
              "      <td>fencing</td>\n",
              "      <td>0</td>\n",
              "      <td>0</td>\n",
              "      <td>0</td>\n",
              "      <td>NaN</td>\n",
              "    </tr>\n",
              "    <tr>\n",
              "      <th>2</th>\n",
              "      <td>435962603</td>\n",
              "      <td>Aaron Brown</td>\n",
              "      <td>CAN</td>\n",
              "      <td>male</td>\n",
              "      <td>1992-05-27</td>\n",
              "      <td>1.98</td>\n",
              "      <td>79.0</td>\n",
              "      <td>athletics</td>\n",
              "      <td>0</td>\n",
              "      <td>0</td>\n",
              "      <td>1</td>\n",
              "      <td>NaN</td>\n",
              "    </tr>\n",
              "    <tr>\n",
              "      <th>3</th>\n",
              "      <td>521041435</td>\n",
              "      <td>Aaron Cook</td>\n",
              "      <td>MDA</td>\n",
              "      <td>male</td>\n",
              "      <td>1991-01-02</td>\n",
              "      <td>1.83</td>\n",
              "      <td>80.0</td>\n",
              "      <td>taekwondo</td>\n",
              "      <td>0</td>\n",
              "      <td>0</td>\n",
              "      <td>0</td>\n",
              "      <td>NaN</td>\n",
              "    </tr>\n",
              "    <tr>\n",
              "      <th>4</th>\n",
              "      <td>33922579</td>\n",
              "      <td>Aaron Gate</td>\n",
              "      <td>NZL</td>\n",
              "      <td>male</td>\n",
              "      <td>1990-11-26</td>\n",
              "      <td>1.81</td>\n",
              "      <td>71.0</td>\n",
              "      <td>cycling</td>\n",
              "      <td>0</td>\n",
              "      <td>0</td>\n",
              "      <td>0</td>\n",
              "      <td>NaN</td>\n",
              "    </tr>\n",
              "  </tbody>\n",
              "</table>\n",
              "</div>"
            ],
            "text/plain": [
              "          id            name nationality     sex  ... gold  silver  bronze info\n",
              "0  736041664  A Jesus Garcia         ESP    male  ...    0       0       0  NaN\n",
              "1  532037425      A Lam Shin         KOR  female  ...    0       0       0  NaN\n",
              "2  435962603     Aaron Brown         CAN    male  ...    0       0       1  NaN\n",
              "3  521041435      Aaron Cook         MDA    male  ...    0       0       0  NaN\n",
              "4   33922579      Aaron Gate         NZL    male  ...    0       0       0  NaN\n",
              "\n",
              "[5 rows x 12 columns]"
            ]
          },
          "metadata": {
            "tags": []
          },
          "execution_count": 5
        }
      ]
    },
    {
      "cell_type": "code",
      "metadata": {
        "id": "vzptdy3Dgtpf",
        "colab_type": "code",
        "colab": {
          "base_uri": "https://localhost:8080/",
          "height": 300
        },
        "outputId": "50210c9c-5669-4c45-c62d-577cf26042e8"
      },
      "source": [
        "athletes.describe()"
      ],
      "execution_count": 6,
      "outputs": [
        {
          "output_type": "execute_result",
          "data": {
            "text/html": [
              "<div>\n",
              "<style scoped>\n",
              "    .dataframe tbody tr th:only-of-type {\n",
              "        vertical-align: middle;\n",
              "    }\n",
              "\n",
              "    .dataframe tbody tr th {\n",
              "        vertical-align: top;\n",
              "    }\n",
              "\n",
              "    .dataframe thead th {\n",
              "        text-align: right;\n",
              "    }\n",
              "</style>\n",
              "<table border=\"1\" class=\"dataframe\">\n",
              "  <thead>\n",
              "    <tr style=\"text-align: right;\">\n",
              "      <th></th>\n",
              "      <th>id</th>\n",
              "      <th>height</th>\n",
              "      <th>weight</th>\n",
              "      <th>gold</th>\n",
              "      <th>silver</th>\n",
              "      <th>bronze</th>\n",
              "    </tr>\n",
              "  </thead>\n",
              "  <tbody>\n",
              "    <tr>\n",
              "      <th>count</th>\n",
              "      <td>1.153800e+04</td>\n",
              "      <td>11208.000000</td>\n",
              "      <td>10879.000000</td>\n",
              "      <td>11538.000000</td>\n",
              "      <td>11538.000000</td>\n",
              "      <td>11538.000000</td>\n",
              "    </tr>\n",
              "    <tr>\n",
              "      <th>mean</th>\n",
              "      <td>4.999885e+08</td>\n",
              "      <td>1.766260</td>\n",
              "      <td>72.068205</td>\n",
              "      <td>0.057722</td>\n",
              "      <td>0.056769</td>\n",
              "      <td>0.061016</td>\n",
              "    </tr>\n",
              "    <tr>\n",
              "      <th>std</th>\n",
              "      <td>2.908648e+08</td>\n",
              "      <td>0.112656</td>\n",
              "      <td>16.177334</td>\n",
              "      <td>0.255910</td>\n",
              "      <td>0.239147</td>\n",
              "      <td>0.243320</td>\n",
              "    </tr>\n",
              "    <tr>\n",
              "      <th>min</th>\n",
              "      <td>1.834700e+04</td>\n",
              "      <td>1.210000</td>\n",
              "      <td>31.000000</td>\n",
              "      <td>0.000000</td>\n",
              "      <td>0.000000</td>\n",
              "      <td>0.000000</td>\n",
              "    </tr>\n",
              "    <tr>\n",
              "      <th>25%</th>\n",
              "      <td>2.450997e+08</td>\n",
              "      <td>1.690000</td>\n",
              "      <td>60.000000</td>\n",
              "      <td>0.000000</td>\n",
              "      <td>0.000000</td>\n",
              "      <td>0.000000</td>\n",
              "    </tr>\n",
              "    <tr>\n",
              "      <th>50%</th>\n",
              "      <td>5.002011e+08</td>\n",
              "      <td>1.760000</td>\n",
              "      <td>70.000000</td>\n",
              "      <td>0.000000</td>\n",
              "      <td>0.000000</td>\n",
              "      <td>0.000000</td>\n",
              "    </tr>\n",
              "    <tr>\n",
              "      <th>75%</th>\n",
              "      <td>7.539874e+08</td>\n",
              "      <td>1.840000</td>\n",
              "      <td>81.000000</td>\n",
              "      <td>0.000000</td>\n",
              "      <td>0.000000</td>\n",
              "      <td>0.000000</td>\n",
              "    </tr>\n",
              "    <tr>\n",
              "      <th>max</th>\n",
              "      <td>9.999878e+08</td>\n",
              "      <td>2.180000</td>\n",
              "      <td>170.000000</td>\n",
              "      <td>5.000000</td>\n",
              "      <td>2.000000</td>\n",
              "      <td>2.000000</td>\n",
              "    </tr>\n",
              "  </tbody>\n",
              "</table>\n",
              "</div>"
            ],
            "text/plain": [
              "                 id        height  ...        silver        bronze\n",
              "count  1.153800e+04  11208.000000  ...  11538.000000  11538.000000\n",
              "mean   4.999885e+08      1.766260  ...      0.056769      0.061016\n",
              "std    2.908648e+08      0.112656  ...      0.239147      0.243320\n",
              "min    1.834700e+04      1.210000  ...      0.000000      0.000000\n",
              "25%    2.450997e+08      1.690000  ...      0.000000      0.000000\n",
              "50%    5.002011e+08      1.760000  ...      0.000000      0.000000\n",
              "75%    7.539874e+08      1.840000  ...      0.000000      0.000000\n",
              "max    9.999878e+08      2.180000  ...      2.000000      2.000000\n",
              "\n",
              "[8 rows x 6 columns]"
            ]
          },
          "metadata": {
            "tags": []
          },
          "execution_count": 6
        }
      ]
    },
    {
      "cell_type": "code",
      "metadata": {
        "id": "jWNvXB9hgyWI",
        "colab_type": "code",
        "colab": {
          "base_uri": "https://localhost:8080/",
          "height": 256
        },
        "outputId": "e441a99e-98a3-431f-e8a3-f67a6f008770"
      },
      "source": [
        "athletes.isnull().sum()"
      ],
      "execution_count": 7,
      "outputs": [
        {
          "output_type": "execute_result",
          "data": {
            "text/plain": [
              "id                   0\n",
              "name                 0\n",
              "nationality          0\n",
              "sex                  0\n",
              "date_of_birth        0\n",
              "height             330\n",
              "weight             659\n",
              "sport                0\n",
              "gold                 0\n",
              "silver               0\n",
              "bronze               0\n",
              "info             11407\n",
              "dtype: int64"
            ]
          },
          "metadata": {
            "tags": []
          },
          "execution_count": 7
        }
      ]
    },
    {
      "cell_type": "markdown",
      "metadata": {
        "id": "i_QTpYC7eU13",
        "colab_type": "text"
      },
      "source": [
        "## Questão 1\n",
        "\n",
        "Considerando uma amostra de tamanho 3000 da coluna `height` obtida com a função `get_sample()`, execute o teste de normalidade de Shapiro-Wilk com a função `scipy.stats.shapiro()`. Podemos afirmar que as alturas são normalmente distribuídas com base nesse teste (ao nível de significância de 5%)? Responda com um boolean (`True` ou `False`)."
      ]
    },
    {
      "cell_type": "code",
      "metadata": {
        "id": "Bl6AnFtdeU14",
        "colab_type": "code",
        "colab": {
          "base_uri": "https://localhost:8080/",
          "height": 35
        },
        "outputId": "5674d89d-91f6-4e16-cbac-5ad4554c1920"
      },
      "source": [
        "def q1():\n",
        "  athletes_height = get_sample(athletes,'height',3000)\n",
        "  shapiro_test = sct.shapiro(athletes_height)\n",
        "  shapiro_bool = shapiro_test[1] > 0.05\n",
        "  return shapiro_bool\n",
        "\n",
        "q1()"
      ],
      "execution_count": 8,
      "outputs": [
        {
          "output_type": "execute_result",
          "data": {
            "text/plain": [
              "False"
            ]
          },
          "metadata": {
            "tags": []
          },
          "execution_count": 8
        }
      ]
    },
    {
      "cell_type": "markdown",
      "metadata": {
        "id": "qlnjhIyIeU2D",
        "colab_type": "text"
      },
      "source": [
        "__Para refletir__:\n",
        "\n",
        "* Plote o histograma dessa variável (com, por exemplo, `bins=25`). A forma do gráfico e o resultado do teste são condizentes? Por que?\n",
        "* Plote o qq-plot para essa variável e a analise.\n",
        "* Existe algum nível de significância razoável que nos dê outro resultado no teste? (Não faça isso na prática. Isso é chamado _p-value hacking_, e não é legal)."
      ]
    },
    {
      "cell_type": "markdown",
      "metadata": {
        "id": "f68WCZE-eU2G",
        "colab_type": "text"
      },
      "source": [
        "## Questão 2\n",
        "\n",
        "Repita o mesmo procedimento acima, mas agora utilizando o teste de normalidade de Jarque-Bera através da função `scipy.stats.jarque_bera()`. Agora podemos afirmar que as alturas são normalmente distribuídas (ao nível de significância de 5%)? Responda com um boolean (`True` ou `False`)."
      ]
    },
    {
      "cell_type": "code",
      "metadata": {
        "id": "VDbxrtI7eU2T",
        "colab_type": "code",
        "colab": {
          "base_uri": "https://localhost:8080/",
          "height": 35
        },
        "outputId": "aa591499-02df-435c-ef56-dad772b84c6c"
      },
      "source": [
        "def q2():\n",
        "  athletes_height = get_sample(athletes,'height',3000)\n",
        "  jarque_test = sct.jarque_bera(athletes_height)\n",
        "  jarque_bool = jarque_test[1] > 0.05\n",
        "  return jarque_bool\n",
        "\n",
        "q2()"
      ],
      "execution_count": 9,
      "outputs": [
        {
          "output_type": "execute_result",
          "data": {
            "text/plain": [
              "False"
            ]
          },
          "metadata": {
            "tags": []
          },
          "execution_count": 9
        }
      ]
    },
    {
      "cell_type": "markdown",
      "metadata": {
        "id": "OKxE6hQOeU2d",
        "colab_type": "text"
      },
      "source": [
        "__Para refletir__:\n",
        "\n",
        "* Esse resultado faz sentido?"
      ]
    },
    {
      "cell_type": "markdown",
      "metadata": {
        "id": "J53osTzmeU2f",
        "colab_type": "text"
      },
      "source": [
        "## Questão 3\n",
        "\n",
        "Considerando agora uma amostra de tamanho 3000 da coluna `weight` obtida com a função `get_sample()`. Faça o teste de normalidade de D'Agostino-Pearson utilizando a função `scipy.stats.normaltest()`. Podemos afirmar que os pesos vêm de uma distribuição normal ao nível de significância de 5%? Responda com um boolean (`True` ou `False`)."
      ]
    },
    {
      "cell_type": "code",
      "metadata": {
        "id": "EOdt3zMLeU2j",
        "colab_type": "code",
        "colab": {
          "base_uri": "https://localhost:8080/",
          "height": 35
        },
        "outputId": "39b95f52-66b4-4bb5-d0a1-5fd6c01edb2f"
      },
      "source": [
        "def q3():\n",
        "  athletes_weight = get_sample(athletes,'weight',3000)\n",
        "  normaltest_weight = sct.normaltest(athletes_weight)\n",
        "  normaltest_bool = normaltest_weight[1]>0.05\n",
        "  return normaltest_bool\n",
        "\n",
        "q3()"
      ],
      "execution_count": 10,
      "outputs": [
        {
          "output_type": "execute_result",
          "data": {
            "text/plain": [
              "False"
            ]
          },
          "metadata": {
            "tags": []
          },
          "execution_count": 10
        }
      ]
    },
    {
      "cell_type": "markdown",
      "metadata": {
        "id": "5Q0Ukw47eU2r",
        "colab_type": "text"
      },
      "source": [
        "__Para refletir__:\n",
        "\n",
        "* Plote o histograma dessa variável (com, por exemplo, `bins=25`). A forma do gráfico e o resultado do teste são condizentes? Por que?\n",
        "* Um _box plot_ também poderia ajudar a entender a resposta."
      ]
    },
    {
      "cell_type": "markdown",
      "metadata": {
        "id": "GO-xK-tgeU2t",
        "colab_type": "text"
      },
      "source": [
        "## Questão 4\n",
        "\n",
        "Realize uma transformação logarítmica em na amostra de `weight` da questão 3 e repita o mesmo procedimento. Podemos afirmar a normalidade da variável transformada ao nível de significância de 5%? Responda com um boolean (`True` ou `False`)."
      ]
    },
    {
      "cell_type": "code",
      "metadata": {
        "id": "2mfKunyueU2u",
        "colab_type": "code",
        "colab": {
          "base_uri": "https://localhost:8080/",
          "height": 35
        },
        "outputId": "875dc8ec-eb4a-4159-8e6b-eba68a3a62ab"
      },
      "source": [
        "def q4():\n",
        "  log_weight = np.log(get_sample(athletes,'weight',3000))\n",
        "  normaltest_weight = sct.normaltest(log_weight)\n",
        "  normaltest_bool = normaltest_weight[1] > 0.05\n",
        "  return normaltest_bool\n",
        "\n",
        "q4()"
      ],
      "execution_count": 11,
      "outputs": [
        {
          "output_type": "execute_result",
          "data": {
            "text/plain": [
              "False"
            ]
          },
          "metadata": {
            "tags": []
          },
          "execution_count": 11
        }
      ]
    },
    {
      "cell_type": "markdown",
      "metadata": {
        "id": "qabka-77eU23",
        "colab_type": "text"
      },
      "source": [
        "__Para refletir__:\n",
        "\n",
        "* Plote o histograma dessa variável (com, por exemplo, `bins=25`). A forma do gráfico e o resultado do teste são condizentes? Por que?\n",
        "* Você esperava um resultado diferente agora?"
      ]
    },
    {
      "cell_type": "markdown",
      "metadata": {
        "id": "v_0D64ITeU26",
        "colab_type": "text"
      },
      "source": [
        "> __Para as questão 5 6 e 7 a seguir considere todos testes efetuados ao nível de significância de 5%__."
      ]
    },
    {
      "cell_type": "code",
      "metadata": {
        "id": "SNyMp4BSplLQ",
        "colab_type": "code",
        "colab": {}
      },
      "source": [
        "brasil = athletes.query(\"nationality == 'BRA'\")[['nationality', 'height']].dropna()\n",
        "usa = athletes.query(\"nationality == 'USA'\")[['nationality', 'height']].dropna()\n",
        "canada = athletes.query(\"nationality == 'CAN'\")[['nationality', 'height']].dropna()"
      ],
      "execution_count": 16,
      "outputs": []
    },
    {
      "cell_type": "markdown",
      "metadata": {
        "id": "GiuzcMRJeU28",
        "colab_type": "text"
      },
      "source": [
        "## Questão 5\n",
        "\n",
        "Obtenha todos atletas brasileiros, norte-americanos e canadenses em `DataFrame`s chamados `bra`, `usa` e `can`,respectivamente. Realize um teste de hipóteses para comparação das médias das alturas (`height`) para amostras independentes e variâncias diferentes com a função `scipy.stats.ttest_ind()` entre `bra` e `usa`. Podemos afirmar que as médias são estatisticamente iguais? Responda com um boolean (`True` ou `False`)."
      ]
    },
    {
      "cell_type": "code",
      "metadata": {
        "id": "nK3woeI_eU29",
        "colab_type": "code",
        "colab": {
          "base_uri": "https://localhost:8080/",
          "height": 35
        },
        "outputId": "04978517-0615-4ec4-e2ae-f716739509db"
      },
      "source": [
        "def q5():\n",
        "  ttest_ind_bra_x_usa_test = sct.ttest_ind(brasil['height'],usa['height'], equal_var=False)\n",
        "  ttest_ind_bra_x_usa_bool = ttest_ind_bra_x_usa_test[1] > 0.05\n",
        "  return (ttest_ind_bra_x_usa_bool)\n",
        "\n",
        "q5()"
      ],
      "execution_count": 13,
      "outputs": [
        {
          "output_type": "execute_result",
          "data": {
            "text/plain": [
              "False"
            ]
          },
          "metadata": {
            "tags": []
          },
          "execution_count": 13
        }
      ]
    },
    {
      "cell_type": "markdown",
      "metadata": {
        "id": "X37Vz3RoeU3K",
        "colab_type": "text"
      },
      "source": [
        "## Questão 6\n",
        "\n",
        "Repita o procedimento da questão 5, mas agora entre as alturas de `bra` e `can`. Podemos afimar agora que as médias são estatisticamente iguais? Reponda com um boolean (`True` ou `False`)."
      ]
    },
    {
      "cell_type": "code",
      "metadata": {
        "id": "9D3Dz2UCeU3M",
        "colab_type": "code",
        "colab": {
          "base_uri": "https://localhost:8080/",
          "height": 35
        },
        "outputId": "297b8571-0fc4-4be2-f543-8f959e19d578"
      },
      "source": [
        "def q6():\n",
        "  ttest_ind_bra_x_can_test = sct.ttest_ind(brasil['height'],canada['height'], equal_var=False)\n",
        "  ttest_ind_bra_x_can_bool = ttest_ind_bra_x_can_test[1] > 0.05\n",
        "  return ttest_ind_bra_x_can_bool\n",
        "\n",
        "q6()"
      ],
      "execution_count": 18,
      "outputs": [
        {
          "output_type": "execute_result",
          "data": {
            "text/plain": [
              "False"
            ]
          },
          "metadata": {
            "tags": []
          },
          "execution_count": 18
        }
      ]
    },
    {
      "cell_type": "markdown",
      "metadata": {
        "id": "SvdGptcMeU3S",
        "colab_type": "text"
      },
      "source": [
        "## Questão 7\n",
        "\n",
        "Repita o procedimento da questão 6, mas agora entre as alturas de `usa` e `can`. Qual o valor do p-valor retornado? Responda como um único escalar arredondado para oito casas decimais."
      ]
    },
    {
      "cell_type": "code",
      "metadata": {
        "id": "sRn4asg1eU3T",
        "colab_type": "code",
        "colab": {
          "base_uri": "https://localhost:8080/",
          "height": 35
        },
        "outputId": "ebd3b0ea-e5d5-4418-baa5-544eef945687"
      },
      "source": [
        "def q7():\n",
        "  ttest_ind_usa_x_can = sct.ttest_ind(usa['height'],canada['height'], equal_var=False)\n",
        "  return round(ttest_ind_usa_x_can[1],8)\n",
        "\n",
        "q7()"
      ],
      "execution_count": 17,
      "outputs": [
        {
          "output_type": "execute_result",
          "data": {
            "text/plain": [
              "nan"
            ]
          },
          "metadata": {
            "tags": []
          },
          "execution_count": 17
        }
      ]
    },
    {
      "cell_type": "markdown",
      "metadata": {
        "id": "C_d_Y9M0eU3c",
        "colab_type": "text"
      },
      "source": [
        "__Para refletir__:\n",
        "\n",
        "* O resultado faz sentido?\n",
        "* Você consegue interpretar esse p-valor?\n",
        "* Você consegue chegar a esse valor de p-valor a partir da variável de estatística?"
      ]
    }
  ]
}