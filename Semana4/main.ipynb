{
  "nbformat": 4,
  "nbformat_minor": 0,
  "metadata": {
    "colab": {
      "name": "main.ipynb",
      "provenance": []
    },
    "kernelspec": {
      "display_name": "Python 3",
      "language": "python",
      "name": "python3"
    },
    "language_info": {
      "codemirror_mode": {
        "name": "ipython",
        "version": 3
      },
      "file_extension": ".py",
      "mimetype": "text/x-python",
      "name": "python",
      "nbconvert_exporter": "python",
      "pygments_lexer": "ipython3",
      "version": "3.7.3"
    }
  },
  "cells": [
    {
      "cell_type": "markdown",
      "metadata": {
        "colab_type": "text",
        "id": "_O9PODyOkzTL"
      },
      "source": [
        "# Desafio 3\n",
        "\n",
        "Neste desafio, iremos praticar nossos conhecimentos sobre distribuições de probabilidade. Para isso,\n",
        "dividiremos este desafio em duas partes:\n",
        "    \n",
        "1. A primeira parte contará com 3 questões sobre um *data set* artificial com dados de uma amostra normal e\n",
        "    uma binomial.\n",
        "2. A segunda parte será sobre a análise da distribuição de uma variável do _data set_ [Pulsar Star](https://archive.ics.uci.edu/ml/datasets/HTRU2), contendo 2 questões.\n",
        "\n",
        "> Obs.: Por favor, não modifique o nome das funções de resposta."
      ]
    },
    {
      "cell_type": "markdown",
      "metadata": {
        "colab_type": "text",
        "id": "cOtLmbSukzTO"
      },
      "source": [
        "## _Setup_ geral"
      ]
    },
    {
      "cell_type": "code",
      "metadata": {
        "colab_type": "code",
        "id": "sN34y31IkzTS",
        "colab": {}
      },
      "source": [
        "import pandas as pd\n",
        "import matplotlib.pyplot as plt\n",
        "import numpy as np\n",
        "import scipy.stats as sct\n",
        "import seaborn as sns\n",
        "from statsmodels.distributions.empirical_distribution import ECDF"
      ],
      "execution_count": 90,
      "outputs": []
    },
    {
      "cell_type": "code",
      "metadata": {
        "id": "C-AxO8lXpNtN",
        "colab_type": "code",
        "colab": {}
      },
      "source": [
        "from IPython.core.pylabtools import figsize\n",
        "\n",
        "figsize=(12,8)\n",
        "sns.set()"
      ],
      "execution_count": 91,
      "outputs": []
    },
    {
      "cell_type": "markdown",
      "metadata": {
        "colab_type": "text",
        "id": "hJ0N1-PlkzTw"
      },
      "source": [
        "## Parte 1"
      ]
    },
    {
      "cell_type": "markdown",
      "metadata": {
        "colab_type": "text",
        "id": "E4dgFFY8kzTy"
      },
      "source": [
        "### _Setup_ da parte 1"
      ]
    },
    {
      "cell_type": "code",
      "metadata": {
        "colab_type": "code",
        "id": "2NpWxntckzT1",
        "colab": {}
      },
      "source": [
        "np.random.seed(42)\n",
        "    \n",
        "dataframe = pd.DataFrame({\"normal\": sct.norm.rvs(20, 4, size=10000),\n",
        "                     \"binomial\": sct.binom.rvs(100, 0.2, size=10000)})"
      ],
      "execution_count": 92,
      "outputs": []
    },
    {
      "cell_type": "markdown",
      "metadata": {
        "colab_type": "text",
        "id": "Aqh5Wn6RkzUD"
      },
      "source": [
        "## Inicie sua análise a partir da parte 1 a partir daqui"
      ]
    },
    {
      "cell_type": "code",
      "metadata": {
        "colab_type": "code",
        "id": "9XBJEt84kzUF",
        "colab": {
          "base_uri": "https://localhost:8080/",
          "height": 363
        },
        "outputId": "78089db5-c0ea-4a71-c865-f6a10d474598"
      },
      "source": [
        "# Sua análise da parte 1 começa aqui.\n",
        "\n",
        "dataframe.head(10)"
      ],
      "execution_count": 93,
      "outputs": [
        {
          "output_type": "execute_result",
          "data": {
            "text/html": [
              "<div>\n",
              "<style scoped>\n",
              "    .dataframe tbody tr th:only-of-type {\n",
              "        vertical-align: middle;\n",
              "    }\n",
              "\n",
              "    .dataframe tbody tr th {\n",
              "        vertical-align: top;\n",
              "    }\n",
              "\n",
              "    .dataframe thead th {\n",
              "        text-align: right;\n",
              "    }\n",
              "</style>\n",
              "<table border=\"1\" class=\"dataframe\">\n",
              "  <thead>\n",
              "    <tr style=\"text-align: right;\">\n",
              "      <th></th>\n",
              "      <th>normal</th>\n",
              "      <th>binomial</th>\n",
              "    </tr>\n",
              "  </thead>\n",
              "  <tbody>\n",
              "    <tr>\n",
              "      <th>0</th>\n",
              "      <td>21.986857</td>\n",
              "      <td>18</td>\n",
              "    </tr>\n",
              "    <tr>\n",
              "      <th>1</th>\n",
              "      <td>19.446943</td>\n",
              "      <td>15</td>\n",
              "    </tr>\n",
              "    <tr>\n",
              "      <th>2</th>\n",
              "      <td>22.590754</td>\n",
              "      <td>14</td>\n",
              "    </tr>\n",
              "    <tr>\n",
              "      <th>3</th>\n",
              "      <td>26.092119</td>\n",
              "      <td>15</td>\n",
              "    </tr>\n",
              "    <tr>\n",
              "      <th>4</th>\n",
              "      <td>19.063387</td>\n",
              "      <td>21</td>\n",
              "    </tr>\n",
              "    <tr>\n",
              "      <th>5</th>\n",
              "      <td>19.063452</td>\n",
              "      <td>14</td>\n",
              "    </tr>\n",
              "    <tr>\n",
              "      <th>6</th>\n",
              "      <td>26.316851</td>\n",
              "      <td>18</td>\n",
              "    </tr>\n",
              "    <tr>\n",
              "      <th>7</th>\n",
              "      <td>23.069739</td>\n",
              "      <td>23</td>\n",
              "    </tr>\n",
              "    <tr>\n",
              "      <th>8</th>\n",
              "      <td>18.122102</td>\n",
              "      <td>18</td>\n",
              "    </tr>\n",
              "    <tr>\n",
              "      <th>9</th>\n",
              "      <td>22.170240</td>\n",
              "      <td>23</td>\n",
              "    </tr>\n",
              "  </tbody>\n",
              "</table>\n",
              "</div>"
            ],
            "text/plain": [
              "      normal  binomial\n",
              "0  21.986857        18\n",
              "1  19.446943        15\n",
              "2  22.590754        14\n",
              "3  26.092119        15\n",
              "4  19.063387        21\n",
              "5  19.063452        14\n",
              "6  26.316851        18\n",
              "7  23.069739        23\n",
              "8  18.122102        18\n",
              "9  22.170240        23"
            ]
          },
          "metadata": {
            "tags": []
          },
          "execution_count": 93
        }
      ]
    },
    {
      "cell_type": "code",
      "metadata": {
        "colab_type": "code",
        "id": "gqvDgNY9sPgB",
        "colab": {
          "base_uri": "https://localhost:8080/",
          "height": 300
        },
        "outputId": "900af416-bd6c-49d0-ca76-796b5f06c207"
      },
      "source": [
        "dataframe.describe()"
      ],
      "execution_count": 94,
      "outputs": [
        {
          "output_type": "execute_result",
          "data": {
            "text/html": [
              "<div>\n",
              "<style scoped>\n",
              "    .dataframe tbody tr th:only-of-type {\n",
              "        vertical-align: middle;\n",
              "    }\n",
              "\n",
              "    .dataframe tbody tr th {\n",
              "        vertical-align: top;\n",
              "    }\n",
              "\n",
              "    .dataframe thead th {\n",
              "        text-align: right;\n",
              "    }\n",
              "</style>\n",
              "<table border=\"1\" class=\"dataframe\">\n",
              "  <thead>\n",
              "    <tr style=\"text-align: right;\">\n",
              "      <th></th>\n",
              "      <th>normal</th>\n",
              "      <th>binomial</th>\n",
              "    </tr>\n",
              "  </thead>\n",
              "  <tbody>\n",
              "    <tr>\n",
              "      <th>count</th>\n",
              "      <td>10000.000000</td>\n",
              "      <td>10000.000000</td>\n",
              "    </tr>\n",
              "    <tr>\n",
              "      <th>mean</th>\n",
              "      <td>19.991456</td>\n",
              "      <td>20.097000</td>\n",
              "    </tr>\n",
              "    <tr>\n",
              "      <th>std</th>\n",
              "      <td>4.013850</td>\n",
              "      <td>4.041191</td>\n",
              "    </tr>\n",
              "    <tr>\n",
              "      <th>min</th>\n",
              "      <td>4.310399</td>\n",
              "      <td>6.000000</td>\n",
              "    </tr>\n",
              "    <tr>\n",
              "      <th>25%</th>\n",
              "      <td>17.309638</td>\n",
              "      <td>17.000000</td>\n",
              "    </tr>\n",
              "    <tr>\n",
              "      <th>50%</th>\n",
              "      <td>19.989620</td>\n",
              "      <td>20.000000</td>\n",
              "    </tr>\n",
              "    <tr>\n",
              "      <th>75%</th>\n",
              "      <td>22.684324</td>\n",
              "      <td>23.000000</td>\n",
              "    </tr>\n",
              "    <tr>\n",
              "      <th>max</th>\n",
              "      <td>35.704951</td>\n",
              "      <td>36.000000</td>\n",
              "    </tr>\n",
              "  </tbody>\n",
              "</table>\n",
              "</div>"
            ],
            "text/plain": [
              "             normal      binomial\n",
              "count  10000.000000  10000.000000\n",
              "mean      19.991456     20.097000\n",
              "std        4.013850      4.041191\n",
              "min        4.310399      6.000000\n",
              "25%       17.309638     17.000000\n",
              "50%       19.989620     20.000000\n",
              "75%       22.684324     23.000000\n",
              "max       35.704951     36.000000"
            ]
          },
          "metadata": {
            "tags": []
          },
          "execution_count": 94
        }
      ]
    },
    {
      "cell_type": "code",
      "metadata": {
        "colab_type": "code",
        "id": "3lTdYomAtMvq",
        "colab": {
          "base_uri": "https://localhost:8080/",
          "height": 303
        },
        "outputId": "1f356455-c790-44bc-ff71-2dd5f4da22ae"
      },
      "source": [
        "sns.distplot(dataframe['binomial'])\n",
        "sns.distplot(dataframe['normal']) "
      ],
      "execution_count": 95,
      "outputs": [
        {
          "output_type": "execute_result",
          "data": {
            "text/plain": [
              "<matplotlib.axes._subplots.AxesSubplot at 0x7f9e53a05dd8>"
            ]
          },
          "metadata": {
            "tags": []
          },
          "execution_count": 95
        },
        {
          "output_type": "display_data",
          "data": {
            "image/png": "[encoded data removed]",
            "text/plain": [
              "<Figure size 432x288 with 1 Axes>"
            ]
          },
          "metadata": {
            "tags": []
          }
        }
      ]
    },
    {
      "cell_type": "code",
      "metadata": {
        "colab_type": "code",
        "id": "G2XU_kKMxkRW",
        "colab": {}
      },
      "source": [
        "media_normal = dataframe.normal.mean()\n",
        "variacao_normal = dataframe.normal.var()\n",
        "desvio_normal = dataframe.normal.std()\n",
        "media_binomial = dataframe.binomial.mean()\n",
        "variacao_binomial = dataframe.binomial.var()\n",
        "desvio_binomial = dataframe.binomial.std()"
      ],
      "execution_count": 96,
      "outputs": []
    },
    {
      "cell_type": "code",
      "metadata": {
        "colab_type": "code",
        "id": "9m1j9blYxxTV",
        "colab": {
          "base_uri": "https://localhost:8080/",
          "height": 54
        },
        "outputId": "0ed0ac36-e0ba-4a39-8c09-6abf39e06f4f"
      },
      "source": [
        "print(f\"Normal-- Media:{media_normal}, Variacao:{variacao_normal}, Desvio Padrao:{desvio_normal}\"\n",
        "+f\"\\nBinomial-- Media:{media_binomial}, Variacao:{variacao_binomial}, Desvio Padrao:{desvio_binomial}\")"
      ],
      "execution_count": 97,
      "outputs": [
        {
          "output_type": "stream",
          "text": [
            "Normal-- Media:19.991456066526293, Variacao:16.110987985368958, Desvio Padrao:4.013849522013619\n",
            "Binomial-- Media:20.097, Variacao:16.331224122412277, Desvio Padrao:4.041190928725377\n"
          ],
          "name": "stdout"
        }
      ]
    },
    {
      "cell_type": "markdown",
      "metadata": {
        "colab_type": "text",
        "id": "jEocNAN9kzUS"
      },
      "source": [
        "## Questão 1\n",
        "\n",
        "Qual a diferença entre os quartis (Q1, Q2 e Q3) das variáveis `normal` e `binomial` de `dataframe`? Responda como uma tupla de três elementos arredondados para três casas decimais.\n",
        "\n",
        "Em outra palavras, sejam `q1_norm`, `q2_norm` e `q3_norm` os quantis da variável `normal` e `q1_binom`, `q2_binom` e `q3_binom` os quantis da variável `binom`, qual a diferença `(q1_norm - q1 binom, q2_norm - q2_binom, q3_norm - q3_binom)`?"
      ]
    },
    {
      "cell_type": "code",
      "metadata": {
        "colab_type": "code",
        "id": "4vKj8km4kzUV",
        "colab": {
          "base_uri": "https://localhost:8080/",
          "height": 35
        },
        "outputId": "db08ccca-4be1-4314-a735-1035d9163843"
      },
      "source": [
        "def q1():\n",
        "    quartis = dataframe.quantile([0.25,0.5,0.75])\n",
        "    return tuple((quartis.normal - quartis.binomial).round(3))\n",
        "\n",
        "q1()"
      ],
      "execution_count": 98,
      "outputs": [
        {
          "output_type": "execute_result",
          "data": {
            "text/plain": [
              "(0.31, -0.01, -0.316)"
            ]
          },
          "metadata": {
            "tags": []
          },
          "execution_count": 98
        }
      ]
    },
    {
      "cell_type": "markdown",
      "metadata": {
        "colab_type": "text",
        "id": "KEO2Mo3hkzUh"
      },
      "source": [
        "Para refletir:\n",
        "\n",
        "* Você esperava valores dessa magnitude?\n",
        "\n",
        "* Você é capaz de explicar como distribuições aparentemente tão diferentes (discreta e contínua, por exemplo) conseguem dar esses valores?"
      ]
    },
    {
      "cell_type": "markdown",
      "metadata": {
        "colab_type": "text",
        "id": "x7xu8uBVkzUj"
      },
      "source": [
        "## Questão 2\n",
        "\n",
        "Considere o intervalo $[\\bar{x} - s, \\bar{x} + s]$, onde $\\bar{x}$ é a média amostral e $s$ é o desvio padrão. Qual a probabilidade nesse intervalo, calculada pela função de distribuição acumulada empírica (CDF empírica) da variável `normal`? Responda como uma único escalar arredondado para três casas decimais."
      ]
    },
    {
      "cell_type": "code",
      "metadata": {
        "colab_type": "code",
        "id": "dokq3INckzUj",
        "colab": {
          "base_uri": "https://localhost:8080/",
          "height": 35
        },
        "outputId": "76a70736-c2ee-4399-adb7-023c6b6511c1"
      },
      "source": [
        "def q2():\n",
        "    inferior, superior =  media_normal - desvio_normal , media_normal + desvio_normal\n",
        "    cdf_emp = (ECDF(dataframe.normal)(superior) - ECDF(dataframe.normal)(inferior)).round(3)\n",
        "    return (cdf_emp)\n",
        "\n",
        "q2()"
      ],
      "execution_count": 99,
      "outputs": [
        {
          "output_type": "execute_result",
          "data": {
            "text/plain": [
              "0.684"
            ]
          },
          "metadata": {
            "tags": []
          },
          "execution_count": 99
        }
      ]
    },
    {
      "cell_type": "markdown",
      "metadata": {
        "colab_type": "text",
        "id": "vqW4uFA_kzUr"
      },
      "source": [
        "Para refletir:\n",
        "\n",
        "* Esse valor se aproxima do esperado teórico?\n",
        "* Experimente também para os intervalos $[\\bar{x} - 2s, \\bar{x} + 2s]$ e $[\\bar{x} - 3s, \\bar{x} + 3s]$."
      ]
    },
    {
      "cell_type": "markdown",
      "metadata": {
        "colab_type": "text",
        "id": "cdhjVDMEkzUt"
      },
      "source": [
        "## Questão 3\n",
        "\n",
        "Qual é a diferença entre as médias e as variâncias das variáveis `binomial` e `normal`? Responda como uma tupla de dois elementos arredondados para três casas decimais.\n",
        "\n",
        "Em outras palavras, sejam `m_binom` e `v_binom` a média e a variância da variável `binomial`, e `m_norm` e `v_norm` a média e a variância da variável `normal`. Quais as diferenças `(m_binom - m_norm, v_binom - v_norm)`?"
      ]
    },
    {
      "cell_type": "code",
      "metadata": {
        "colab_type": "code",
        "id": "Njw44uBRkzUu",
        "colab": {
          "base_uri": "https://localhost:8080/",
          "height": 35
        },
        "outputId": "73b90a55-d258-4f42-ccfb-18a03107b04d"
      },
      "source": [
        "def q3():\n",
        "  dif_m_norm = np.round((media_binomial - media_normal),3)\n",
        "  dif_v_norm = np.round((variacao_binomial - variacao_normal),3)\n",
        "  return (dif_m_norm,dif_v_norm)\n",
        "\n",
        "q3()"
      ],
      "execution_count": 100,
      "outputs": [
        {
          "output_type": "execute_result",
          "data": {
            "text/plain": [
              "(0.106, 0.22)"
            ]
          },
          "metadata": {
            "tags": []
          },
          "execution_count": 100
        }
      ]
    },
    {
      "cell_type": "markdown",
      "metadata": {
        "colab_type": "text",
        "id": "osXl782pkzU2"
      },
      "source": [
        "Para refletir:\n",
        "\n",
        "* Você esperava valore dessa magnitude?\n",
        "* Qual o efeito de aumentar ou diminuir $n$ (atualmente 100) na distribuição da variável `binomial`?"
      ]
    },
    {
      "cell_type": "markdown",
      "metadata": {
        "colab_type": "text",
        "id": "MnNoid8zkzU4"
      },
      "source": [
        "## Parte 2"
      ]
    },
    {
      "cell_type": "markdown",
      "metadata": {
        "colab_type": "text",
        "id": "QP9PGW_1kzU5"
      },
      "source": [
        "### _Setup_ da parte 2"
      ]
    },
    {
      "cell_type": "code",
      "metadata": {
        "colab_type": "code",
        "id": "0hrmch5bkzU7",
        "colab": {}
      },
      "source": [
        "url = 'https://raw.githubusercontent.com/RobsonCrLira/AceleraDevDS/master/QuartaSemana/HTRU_2.csv'\n",
        "\n",
        "stars = pd.read_csv(url)\n",
        "\n",
        "stars.rename({old_name: new_name\n",
        "              for (old_name, new_name)\n",
        "              in zip(stars.columns,\n",
        "                     [\"mean_profile\", \"sd_profile\", \"kurt_profile\", \"skew_profile\", \"mean_curve\", \"sd_curve\", \"kurt_curve\", \"skew_curve\", \"target\"])\n",
        "             },\n",
        "             axis=1, inplace=True)\n",
        "\n",
        "stars.loc[:, \"target\"] = stars.target.astype(bool)"
      ],
      "execution_count": 101,
      "outputs": []
    },
    {
      "cell_type": "markdown",
      "metadata": {
        "colab_type": "text",
        "id": "ZhQ2ocSykzVD"
      },
      "source": [
        "## Inicie sua análise da parte 2 a partir daqui"
      ]
    },
    {
      "cell_type": "code",
      "metadata": {
        "colab_type": "code",
        "id": "7WFgyhHJkzVF",
        "colab": {
          "base_uri": "https://localhost:8080/",
          "height": 206
        },
        "outputId": "55fbe0e8-ec7b-41be-8ce3-e9ef0f60d1eb"
      },
      "source": [
        "stars.head()"
      ],
      "execution_count": 102,
      "outputs": [
        {
          "output_type": "execute_result",
          "data": {
            "text/html": [
              "<div>\n",
              "<style scoped>\n",
              "    .dataframe tbody tr th:only-of-type {\n",
              "        vertical-align: middle;\n",
              "    }\n",
              "\n",
              "    .dataframe tbody tr th {\n",
              "        vertical-align: top;\n",
              "    }\n",
              "\n",
              "    .dataframe thead th {\n",
              "        text-align: right;\n",
              "    }\n",
              "</style>\n",
              "<table border=\"1\" class=\"dataframe\">\n",
              "  <thead>\n",
              "    <tr style=\"text-align: right;\">\n",
              "      <th></th>\n",
              "      <th>mean_profile</th>\n",
              "      <th>sd_profile</th>\n",
              "      <th>kurt_profile</th>\n",
              "      <th>skew_profile</th>\n",
              "      <th>mean_curve</th>\n",
              "      <th>sd_curve</th>\n",
              "      <th>kurt_curve</th>\n",
              "      <th>skew_curve</th>\n",
              "      <th>target</th>\n",
              "    </tr>\n",
              "  </thead>\n",
              "  <tbody>\n",
              "    <tr>\n",
              "      <th>0</th>\n",
              "      <td>102.507812</td>\n",
              "      <td>58.882430</td>\n",
              "      <td>0.465318</td>\n",
              "      <td>-0.515088</td>\n",
              "      <td>1.677258</td>\n",
              "      <td>14.860146</td>\n",
              "      <td>10.576487</td>\n",
              "      <td>127.393580</td>\n",
              "      <td>False</td>\n",
              "    </tr>\n",
              "    <tr>\n",
              "      <th>1</th>\n",
              "      <td>103.015625</td>\n",
              "      <td>39.341649</td>\n",
              "      <td>0.323328</td>\n",
              "      <td>1.051164</td>\n",
              "      <td>3.121237</td>\n",
              "      <td>21.744669</td>\n",
              "      <td>7.735822</td>\n",
              "      <td>63.171909</td>\n",
              "      <td>False</td>\n",
              "    </tr>\n",
              "    <tr>\n",
              "      <th>2</th>\n",
              "      <td>136.750000</td>\n",
              "      <td>57.178449</td>\n",
              "      <td>-0.068415</td>\n",
              "      <td>-0.636238</td>\n",
              "      <td>3.642977</td>\n",
              "      <td>20.959280</td>\n",
              "      <td>6.896499</td>\n",
              "      <td>53.593661</td>\n",
              "      <td>False</td>\n",
              "    </tr>\n",
              "    <tr>\n",
              "      <th>3</th>\n",
              "      <td>88.726562</td>\n",
              "      <td>40.672225</td>\n",
              "      <td>0.600866</td>\n",
              "      <td>1.123492</td>\n",
              "      <td>1.178930</td>\n",
              "      <td>11.468720</td>\n",
              "      <td>14.269573</td>\n",
              "      <td>252.567306</td>\n",
              "      <td>False</td>\n",
              "    </tr>\n",
              "    <tr>\n",
              "      <th>4</th>\n",
              "      <td>93.570312</td>\n",
              "      <td>46.698114</td>\n",
              "      <td>0.531905</td>\n",
              "      <td>0.416721</td>\n",
              "      <td>1.636288</td>\n",
              "      <td>14.545074</td>\n",
              "      <td>10.621748</td>\n",
              "      <td>131.394004</td>\n",
              "      <td>False</td>\n",
              "    </tr>\n",
              "  </tbody>\n",
              "</table>\n",
              "</div>"
            ],
            "text/plain": [
              "   mean_profile  sd_profile  kurt_profile  ...  kurt_curve  skew_curve  target\n",
              "0    102.507812   58.882430      0.465318  ...   10.576487  127.393580   False\n",
              "1    103.015625   39.341649      0.323328  ...    7.735822   63.171909   False\n",
              "2    136.750000   57.178449     -0.068415  ...    6.896499   53.593661   False\n",
              "3     88.726562   40.672225      0.600866  ...   14.269573  252.567306   False\n",
              "4     93.570312   46.698114      0.531905  ...   10.621748  131.394004   False\n",
              "\n",
              "[5 rows x 9 columns]"
            ]
          },
          "metadata": {
            "tags": []
          },
          "execution_count": 102
        }
      ]
    },
    {
      "cell_type": "code",
      "metadata": {
        "colab_type": "code",
        "id": "cr7yqZ-a543p",
        "colab": {
          "base_uri": "https://localhost:8080/",
          "height": 300
        },
        "outputId": "05beed05-a312-4034-9284-7061da801aba"
      },
      "source": [
        "stars.describe()"
      ],
      "execution_count": 103,
      "outputs": [
        {
          "output_type": "execute_result",
          "data": {
            "text/html": [
              "<div>\n",
              "<style scoped>\n",
              "    .dataframe tbody tr th:only-of-type {\n",
              "        vertical-align: middle;\n",
              "    }\n",
              "\n",
              "    .dataframe tbody tr th {\n",
              "        vertical-align: top;\n",
              "    }\n",
              "\n",
              "    .dataframe thead th {\n",
              "        text-align: right;\n",
              "    }\n",
              "</style>\n",
              "<table border=\"1\" class=\"dataframe\">\n",
              "  <thead>\n",
              "    <tr style=\"text-align: right;\">\n",
              "      <th></th>\n",
              "      <th>mean_profile</th>\n",
              "      <th>sd_profile</th>\n",
              "      <th>kurt_profile</th>\n",
              "      <th>skew_profile</th>\n",
              "      <th>mean_curve</th>\n",
              "      <th>sd_curve</th>\n",
              "      <th>kurt_curve</th>\n",
              "      <th>skew_curve</th>\n",
              "    </tr>\n",
              "  </thead>\n",
              "  <tbody>\n",
              "    <tr>\n",
              "      <th>count</th>\n",
              "      <td>17897.000000</td>\n",
              "      <td>17897.000000</td>\n",
              "      <td>17897.000000</td>\n",
              "      <td>17897.000000</td>\n",
              "      <td>17897.000000</td>\n",
              "      <td>17897.000000</td>\n",
              "      <td>17897.000000</td>\n",
              "      <td>17897.000000</td>\n",
              "    </tr>\n",
              "    <tr>\n",
              "      <th>mean</th>\n",
              "      <td>111.078321</td>\n",
              "      <td>46.549021</td>\n",
              "      <td>0.477897</td>\n",
              "      <td>1.770417</td>\n",
              "      <td>12.614926</td>\n",
              "      <td>26.326918</td>\n",
              "      <td>8.303574</td>\n",
              "      <td>104.859419</td>\n",
              "    </tr>\n",
              "    <tr>\n",
              "      <th>std</th>\n",
              "      <td>25.652705</td>\n",
              "      <td>6.843040</td>\n",
              "      <td>1.064056</td>\n",
              "      <td>6.168058</td>\n",
              "      <td>29.473637</td>\n",
              "      <td>19.471042</td>\n",
              "      <td>4.506217</td>\n",
              "      <td>106.517270</td>\n",
              "    </tr>\n",
              "    <tr>\n",
              "      <th>min</th>\n",
              "      <td>5.812500</td>\n",
              "      <td>24.772042</td>\n",
              "      <td>-1.876011</td>\n",
              "      <td>-1.791886</td>\n",
              "      <td>0.213211</td>\n",
              "      <td>7.370432</td>\n",
              "      <td>-3.139270</td>\n",
              "      <td>-1.976976</td>\n",
              "    </tr>\n",
              "    <tr>\n",
              "      <th>25%</th>\n",
              "      <td>100.929688</td>\n",
              "      <td>42.375426</td>\n",
              "      <td>0.027108</td>\n",
              "      <td>-0.188528</td>\n",
              "      <td>1.923077</td>\n",
              "      <td>14.437330</td>\n",
              "      <td>5.781485</td>\n",
              "      <td>34.957119</td>\n",
              "    </tr>\n",
              "    <tr>\n",
              "      <th>50%</th>\n",
              "      <td>115.078125</td>\n",
              "      <td>46.946435</td>\n",
              "      <td>0.223241</td>\n",
              "      <td>0.198736</td>\n",
              "      <td>2.801839</td>\n",
              "      <td>18.459977</td>\n",
              "      <td>8.433872</td>\n",
              "      <td>83.068996</td>\n",
              "    </tr>\n",
              "    <tr>\n",
              "      <th>75%</th>\n",
              "      <td>127.085938</td>\n",
              "      <td>51.022887</td>\n",
              "      <td>0.473349</td>\n",
              "      <td>0.928206</td>\n",
              "      <td>5.464883</td>\n",
              "      <td>28.428152</td>\n",
              "      <td>10.702973</td>\n",
              "      <td>139.310905</td>\n",
              "    </tr>\n",
              "    <tr>\n",
              "      <th>max</th>\n",
              "      <td>192.617188</td>\n",
              "      <td>98.778911</td>\n",
              "      <td>8.069522</td>\n",
              "      <td>68.101622</td>\n",
              "      <td>223.392140</td>\n",
              "      <td>110.642211</td>\n",
              "      <td>34.539844</td>\n",
              "      <td>1191.000837</td>\n",
              "    </tr>\n",
              "  </tbody>\n",
              "</table>\n",
              "</div>"
            ],
            "text/plain": [
              "       mean_profile    sd_profile  ...    kurt_curve    skew_curve\n",
              "count  17897.000000  17897.000000  ...  17897.000000  17897.000000\n",
              "mean     111.078321     46.549021  ...      8.303574    104.859419\n",
              "std       25.652705      6.843040  ...      4.506217    106.517270\n",
              "min        5.812500     24.772042  ...     -3.139270     -1.976976\n",
              "25%      100.929688     42.375426  ...      5.781485     34.957119\n",
              "50%      115.078125     46.946435  ...      8.433872     83.068996\n",
              "75%      127.085938     51.022887  ...     10.702973    139.310905\n",
              "max      192.617188     98.778911  ...     34.539844   1191.000837\n",
              "\n",
              "[8 rows x 8 columns]"
            ]
          },
          "metadata": {
            "tags": []
          },
          "execution_count": 103
        }
      ]
    },
    {
      "cell_type": "markdown",
      "metadata": {
        "colab_type": "text",
        "id": "DzM8Nfa7kzVN"
      },
      "source": [
        "## Questão 4\n",
        "\n",
        "Considerando a variável `mean_profile` de `stars`:\n",
        "\n",
        "1. Filtre apenas os valores de `mean_profile` onde `target == 0` (ou seja, onde a estrela não é um pulsar).\n",
        "2. Padronize a variável `mean_profile` filtrada anteriormente para ter média 0 e variância 1.\n",
        "\n",
        "Chamaremos a variável resultante de `false_pulsar_mean_profile_standardized`.\n",
        "\n",
        "Encontre os quantis teóricos para uma distribuição normal de média 0 e variância 1 para 0.80, 0.90 e 0.95 através da função `norm.ppf()` disponível em `scipy.stats`.\n",
        "\n",
        "Quais as probabilidade associadas a esses quantis utilizando a CDF empírica da variável `false_pulsar_mean_profile_standardized`? Responda como uma tupla de três elementos arredondados para três casas decimais."
      ]
    },
    {
      "cell_type": "code",
      "metadata": {
        "colab_type": "code",
        "id": "pN65NPdGkzVO",
        "colab": {
          "base_uri": "https://localhost:8080/",
          "height": 35
        },
        "outputId": "ff840ea4-a95a-4225-dc72-5f0dd8ef6c6b"
      },
      "source": [
        "false_pulsar_mean_profile_standardized = stars.query(\"target == 0\")[\"mean_profile\"]\n",
        "padroniza = (false_pulsar_mean_profile_standardized - false_pulsar_mean_profile_standardized.mean()) / false_pulsar_mean_profile_standardized.std()\n",
        "\n",
        "def q4():\n",
        "    v8,v9,v95 = sct.norm.ppf([0.8, 0.9, 0.95])\n",
        "    v8,v9,v95 = np.round((ECDF(padroniza)(v8),ECDF(padroniza)(v9),ECDF(padroniza)(v95)),3)\n",
        "    return v8,v9,v95\n",
        "\n",
        "q4()"
      ],
      "execution_count": 104,
      "outputs": [
        {
          "output_type": "execute_result",
          "data": {
            "text/plain": [
              "(0.806, 0.911, 0.959)"
            ]
          },
          "metadata": {
            "tags": []
          },
          "execution_count": 104
        }
      ]
    },
    {
      "cell_type": "markdown",
      "metadata": {
        "colab_type": "text",
        "id": "_E3pP61ckzVY"
      },
      "source": [
        "Para refletir:\n",
        "\n",
        "* Os valores encontrados fazem sentido?\n",
        "* O que isso pode dizer sobre a distribuição da variável `false_pulsar_mean_profile_standardized`?"
      ]
    },
    {
      "cell_type": "markdown",
      "metadata": {
        "colab_type": "text",
        "id": "PS3nddp1kzVZ"
      },
      "source": [
        "## Questão 5\n",
        "\n",
        "Qual a diferença entre os quantis Q1, Q2 e Q3 de `false_pulsar_mean_profile_standardized` e os mesmos quantis teóricos de uma distribuição normal de média 0 e variância 1? Responda como uma tupla de três elementos arredondados para três casas decimais."
      ]
    },
    {
      "cell_type": "code",
      "metadata": {
        "colab_type": "code",
        "id": "B40zhu2dkzVb",
        "colab": {
          "base_uri": "https://localhost:8080/",
          "height": 35
        },
        "outputId": "db932a7a-a155-4cc1-9bb7-ddea37c52b74"
      },
      "source": [
        "def q5():\n",
        "  qs = padroniza.quantile([0.25,0.5,0.75])\n",
        "  normal_s = (sct.norm.ppf([0.25, 0.5, 0.75], loc=0, scale=1).round(3))\n",
        "  return tuple((qs - normal_s).round(3))\n",
        "\n",
        "q5()"
      ],
      "execution_count": 105,
      "outputs": [
        {
          "output_type": "execute_result",
          "data": {
            "text/plain": [
              "(0.027, 0.04, -0.003)"
            ]
          },
          "metadata": {
            "tags": []
          },
          "execution_count": 105
        }
      ]
    },
    {
      "cell_type": "markdown",
      "metadata": {
        "colab_type": "text",
        "id": "dkWFa0bpkzVs"
      },
      "source": [
        "Para refletir:\n",
        "\n",
        "* Os valores encontrados fazem sentido?\n",
        "* O que isso pode dizer sobre a distribuição da variável `false_pulsar_mean_profile_standardized`?\n",
        "* Curiosidade: alguns testes de hipóteses sobre normalidade dos dados utilizam essa mesma abordagem."
      ]
    }
  ]
}